{
  "cells": [
    {
      "cell_type": "code",
      "execution_count": null,
      "id": "3b578d8d",
      "metadata": {
        "colab": {
          "base_uri": "https://localhost:8080/"
        },
        "id": "3b578d8d",
        "outputId": "97f36d6b-77b3-48b1-d971-0b9e9407dced"
      },
      "outputs": [
        {
          "output_type": "stream",
          "name": "stdout",
          "text": [
            "Mounted at /content/drive\n",
            "                                            filename  category\n",
            "0  /content/drive/My Drive/new_fol_vig/NE/NL_001.png         3\n",
            "1  /content/drive/My Drive/new_fol_vig/NE/NL_004.png         3\n",
            "2  /content/drive/My Drive/new_fol_vig/NE/NL_005.png         3\n",
            "3  /content/drive/My Drive/new_fol_vig/NE/NL_006.png         3\n",
            "4  /content/drive/My Drive/new_fol_vig/NE/NL_002.png         3\n"
          ]
        }
      ],
      "source": [
        "import numpy as np\n",
        "import tensorflow as tf\n",
        "import pandas as pd\n",
        "import matplotlib.pyplot as plt\n",
        "import os\n",
        "from sklearn.metrics import classification_report, confusion_matrix\n",
        "import seaborn as sns\n",
        "from tensorflow.keras.preprocessing.image import load_img, img_to_array\n",
        "from tensorflow.keras.callbacks import EarlyStopping\n",
        "from tensorflow.keras.models import Model\n",
        "from tensorflow.keras.layers import Conv2D, MaxPooling2D, Dropout, Flatten, Dense, GlobalMaxPooling2D, BatchNormalization\n",
        "from tensorflow.keras.applications import VGG16\n",
        "from tensorflow.keras import optimizers\n",
        "from sklearn.model_selection import train_test_split\n",
        "from sklearn.preprocessing import LabelEncoder\n",
        "from google.colab import drive\n",
        "\n",
        "# Mount Google Drive\n",
        "drive.mount('/content/drive')\n",
        "\n",
        "# Model parameters\n",
        "image_size = 224\n",
        "input_shape = (image_size, image_size, 3)\n",
        "epochs = 50\n",
        "batch_size = 32\n",
        "\n",
        "# Define the dataset path and categories\n",
        "dataset_path = '/content/drive/My Drive/new_fol_vig'\n",
        "categories = ['NE', 'DME', 'DR1', 'GL']\n",
        "\n",
        "# Initialize an empty list to store labels\n",
        "labels = []\n",
        "\n",
        "# Iterate through the directories in the dataset path\n",
        "for category in categories:\n",
        "    category_path = os.path.join(dataset_path, category)\n",
        "    # Check if the directory exists and is indeed a directory\n",
        "    if os.path.isdir(category_path):\n",
        "        # List all files in the category directory\n",
        "        file_names = os.listdir(category_path)\n",
        "        # Iterate through each file in the directory\n",
        "        for file_name in file_names:\n",
        "            # Construct the full file path\n",
        "            file_path = os.path.join(category_path, file_name)\n",
        "            # Append the filename and category to the labels list\n",
        "            labels.append((file_path, category))\n",
        "\n",
        "# Create a DataFrame from the labels list\n",
        "df = pd.DataFrame(data=labels, columns=['filename', 'category'])\n",
        "\n",
        "# Encode the 'category' column\n",
        "encoder = LabelEncoder()\n",
        "df['category'] = encoder.fit_transform(df['category'])\n",
        "print(df.head())\n",
        "df = df.sample(frac=1).reset_index(drop=True)\n",
        "\n",
        "# Split the DataFrame into train and validation sets\n",
        "train_df, validate_df = train_test_split(df, test_size=0.2)\n",
        "\n",
        "# Load images and labels from DataFrame\n",
        "X_train = np.array([img_to_array(load_img(img_path, target_size=(image_size, image_size))) for img_path in train_df['filename']])\n",
        "y_train = np.array(train_df['category'])\n",
        "X_validate = np.array([img_to_array(load_img(img_path, target_size=(image_size, image_size))) for img_path in validate_df['filename']])\n",
        "y_validate = np.array(validate_df['category'])\n",
        "\n",
        "# Normalize pixel values to the range [0, 1]\n",
        "X_train = X_train / 255.0\n",
        "X_validate = X_validate / 255.0\n",
        "\n"
      ]
    },
    {
      "cell_type": "code",
      "execution_count": null,
      "id": "3b20e7fa",
      "metadata": {
        "colab": {
          "base_uri": "https://localhost:8080/"
        },
        "id": "3b20e7fa",
        "outputId": "3865fafc-009b-4e5d-d0d5-183426aa9551"
      },
      "outputs": [
        {
          "output_type": "stream",
          "name": "stdout",
          "text": [
            "Downloading data from https://storage.googleapis.com/tensorflow/keras-applications/vgg16/vgg16_weights_tf_dim_ordering_tf_kernels_notop.h5\n",
            "58889256/58889256 [==============================] - 0s 0us/step\n"
          ]
        },
        {
          "output_type": "stream",
          "name": "stderr",
          "text": [
            "WARNING:absl:`lr` is deprecated in Keras optimizer, please use `learning_rate` or use the legacy optimizer, e.g.,tf.keras.optimizers.legacy.Adam.\n"
          ]
        },
        {
          "output_type": "stream",
          "name": "stdout",
          "text": [
            "Epoch 1/50\n",
            "11/11 [==============================] - 24s 968ms/step - loss: 0.7305 - accuracy: 0.7061 - val_loss: 30.2623 - val_accuracy: 0.2651\n",
            "Epoch 2/50\n",
            "11/11 [==============================] - 2s 193ms/step - loss: 0.3928 - accuracy: 0.8061 - val_loss: 65.8013 - val_accuracy: 0.2651\n",
            "Epoch 3/50\n",
            "11/11 [==============================] - 2s 190ms/step - loss: 0.3275 - accuracy: 0.8364 - val_loss: 52.0151 - val_accuracy: 0.2651\n",
            "Epoch 4/50\n",
            "11/11 [==============================] - 2s 166ms/step - loss: 0.2871 - accuracy: 0.8667 - val_loss: 46.0478 - val_accuracy: 0.2651\n",
            "Epoch 5/50\n",
            "11/11 [==============================] - 2s 191ms/step - loss: 0.2624 - accuracy: 0.9061 - val_loss: 30.9302 - val_accuracy: 0.2651\n",
            "Epoch 6/50\n",
            "11/11 [==============================] - 2s 162ms/step - loss: 0.2178 - accuracy: 0.8939 - val_loss: 23.7828 - val_accuracy: 0.2651\n",
            "Epoch 7/50\n",
            "11/11 [==============================] - 2s 191ms/step - loss: 0.1915 - accuracy: 0.9152 - val_loss: 9.1889 - val_accuracy: 0.5181\n",
            "Epoch 8/50\n",
            "11/11 [==============================] - 2s 169ms/step - loss: 0.1644 - accuracy: 0.9182 - val_loss: 17.4047 - val_accuracy: 0.3976\n",
            "Epoch 9/50\n",
            "11/11 [==============================] - 2s 165ms/step - loss: 0.1373 - accuracy: 0.9455 - val_loss: 9.7778 - val_accuracy: 0.5060\n",
            "Epoch 10/50\n",
            "11/11 [==============================] - 2s 162ms/step - loss: 0.1241 - accuracy: 0.9576 - val_loss: 11.4878 - val_accuracy: 0.5060\n",
            "Epoch 11/50\n",
            "11/11 [==============================] - 2s 192ms/step - loss: 0.0864 - accuracy: 0.9697 - val_loss: 9.2490 - val_accuracy: 0.4699\n",
            "Epoch 12/50\n",
            "11/11 [==============================] - 2s 192ms/step - loss: 0.0861 - accuracy: 0.9727 - val_loss: 6.5615 - val_accuracy: 0.4819\n",
            "Epoch 13/50\n",
            "11/11 [==============================] - 2s 163ms/step - loss: 0.0570 - accuracy: 0.9758 - val_loss: 4.5313 - val_accuracy: 0.5422\n",
            "Epoch 14/50\n",
            "11/11 [==============================] - 2s 163ms/step - loss: 0.0720 - accuracy: 0.9758 - val_loss: 4.4443 - val_accuracy: 0.4458\n",
            "Epoch 15/50\n",
            "11/11 [==============================] - 2s 200ms/step - loss: 0.0999 - accuracy: 0.9606 - val_loss: 5.0096 - val_accuracy: 0.5783\n",
            "Epoch 16/50\n",
            "11/11 [==============================] - 2s 196ms/step - loss: 0.0728 - accuracy: 0.9697 - val_loss: 10.3446 - val_accuracy: 0.2771\n",
            "Epoch 17/50\n",
            "11/11 [==============================] - 2s 194ms/step - loss: 0.0333 - accuracy: 0.9909 - val_loss: 6.2861 - val_accuracy: 0.2651\n",
            "Epoch 18/50\n",
            "11/11 [==============================] - 2s 195ms/step - loss: 0.0253 - accuracy: 0.9939 - val_loss: 4.1117 - val_accuracy: 0.5060\n",
            "Epoch 19/50\n",
            "11/11 [==============================] - 2s 194ms/step - loss: 0.0317 - accuracy: 0.9909 - val_loss: 2.1291 - val_accuracy: 0.6024\n",
            "Epoch 20/50\n",
            "11/11 [==============================] - 2s 194ms/step - loss: 0.0346 - accuracy: 0.9909 - val_loss: 1.7900 - val_accuracy: 0.6867\n",
            "Epoch 21/50\n",
            "11/11 [==============================] - 2s 200ms/step - loss: 0.0470 - accuracy: 0.9818 - val_loss: 12.1878 - val_accuracy: 0.2530\n",
            "Epoch 22/50\n",
            "11/11 [==============================] - 2s 196ms/step - loss: 0.0858 - accuracy: 0.9758 - val_loss: 16.1010 - val_accuracy: 0.2530\n",
            "Epoch 23/50\n",
            "11/11 [==============================] - 2s 195ms/step - loss: 0.1254 - accuracy: 0.9485 - val_loss: 15.3511 - val_accuracy: 0.5181\n",
            "Epoch 24/50\n",
            "11/11 [==============================] - 2s 165ms/step - loss: 0.1052 - accuracy: 0.9576 - val_loss: 8.7142 - val_accuracy: 0.4458\n",
            "Epoch 25/50\n",
            "11/11 [==============================] - 2s 196ms/step - loss: 0.0588 - accuracy: 0.9788 - val_loss: 9.1197 - val_accuracy: 0.5060\n",
            "Epoch 26/50\n",
            "11/11 [==============================] - 2s 166ms/step - loss: 0.0206 - accuracy: 0.9970 - val_loss: 1.3916 - val_accuracy: 0.6265\n",
            "Epoch 27/50\n",
            "11/11 [==============================] - 2s 168ms/step - loss: 0.0194 - accuracy: 0.9970 - val_loss: 1.5732 - val_accuracy: 0.6024\n",
            "Epoch 28/50\n",
            "11/11 [==============================] - 2s 202ms/step - loss: 0.0114 - accuracy: 1.0000 - val_loss: 1.2317 - val_accuracy: 0.7470\n",
            "Epoch 29/50\n",
            "11/11 [==============================] - 2s 168ms/step - loss: 0.0108 - accuracy: 1.0000 - val_loss: 1.9686 - val_accuracy: 0.6627\n",
            "Epoch 30/50\n",
            "11/11 [==============================] - 2s 167ms/step - loss: 0.0178 - accuracy: 0.9909 - val_loss: 3.3280 - val_accuracy: 0.7229\n",
            "Epoch 31/50\n",
            "11/11 [==============================] - 2s 197ms/step - loss: 0.0317 - accuracy: 0.9879 - val_loss: 2.3881 - val_accuracy: 0.7590\n",
            "Epoch 32/50\n",
            "11/11 [==============================] - 2s 197ms/step - loss: 0.0274 - accuracy: 0.9909 - val_loss: 2.0307 - val_accuracy: 0.7470\n",
            "Epoch 33/50\n",
            "11/11 [==============================] - 2s 180ms/step - loss: 0.0873 - accuracy: 0.9758 - val_loss: 2.5078 - val_accuracy: 0.7590\n",
            "Epoch 34/50\n",
            "11/11 [==============================] - 2s 180ms/step - loss: 0.0675 - accuracy: 0.9758 - val_loss: 3.1219 - val_accuracy: 0.6386\n",
            "Epoch 35/50\n",
            "11/11 [==============================] - 2s 175ms/step - loss: 0.0374 - accuracy: 0.9848 - val_loss: 2.5825 - val_accuracy: 0.6747\n",
            "Epoch 36/50\n",
            "11/11 [==============================] - 2s 200ms/step - loss: 0.0377 - accuracy: 0.9848 - val_loss: 3.8537 - val_accuracy: 0.7590\n",
            "Epoch 37/50\n",
            "11/11 [==============================] - 2s 199ms/step - loss: 0.0393 - accuracy: 0.9848 - val_loss: 9.0394 - val_accuracy: 0.5181\n",
            "Epoch 38/50\n",
            "11/11 [==============================] - 2s 198ms/step - loss: 0.0235 - accuracy: 0.9909 - val_loss: 10.7752 - val_accuracy: 0.5181\n",
            "Epoch 39/50\n",
            "11/11 [==============================] - 2s 199ms/step - loss: 0.0234 - accuracy: 0.9879 - val_loss: 2.4965 - val_accuracy: 0.6506\n",
            "Epoch 40/50\n",
            "11/11 [==============================] - 2s 171ms/step - loss: 0.0095 - accuracy: 0.9970 - val_loss: 0.2676 - val_accuracy: 0.9398\n",
            "Epoch 41/50\n",
            "11/11 [==============================] - 2s 206ms/step - loss: 0.0026 - accuracy: 1.0000 - val_loss: 0.2914 - val_accuracy: 0.9157\n",
            "Epoch 42/50\n",
            "11/11 [==============================] - 2s 173ms/step - loss: 0.0020 - accuracy: 1.0000 - val_loss: 0.5390 - val_accuracy: 0.8313\n",
            "Epoch 43/50\n",
            "11/11 [==============================] - 2s 171ms/step - loss: 0.0020 - accuracy: 1.0000 - val_loss: 0.5522 - val_accuracy: 0.8313\n",
            "Epoch 44/50\n",
            "11/11 [==============================] - 2s 172ms/step - loss: 0.0015 - accuracy: 1.0000 - val_loss: 0.4264 - val_accuracy: 0.8675\n",
            "Epoch 45/50\n",
            "11/11 [==============================] - 2s 171ms/step - loss: 0.0021 - accuracy: 1.0000 - val_loss: 0.3227 - val_accuracy: 0.9036\n",
            "Epoch 46/50\n",
            "11/11 [==============================] - 2s 173ms/step - loss: 4.6944e-04 - accuracy: 1.0000 - val_loss: 0.3068 - val_accuracy: 0.8916\n",
            "Epoch 47/50\n",
            "11/11 [==============================] - 2s 174ms/step - loss: 6.6145e-04 - accuracy: 1.0000 - val_loss: 0.3088 - val_accuracy: 0.9157\n",
            "Epoch 48/50\n",
            "11/11 [==============================] - 2s 180ms/step - loss: 7.6347e-04 - accuracy: 1.0000 - val_loss: 0.3151 - val_accuracy: 0.9157\n",
            "Epoch 49/50\n",
            "11/11 [==============================] - 2s 176ms/step - loss: 0.0018 - accuracy: 1.0000 - val_loss: 0.2654 - val_accuracy: 0.9157\n",
            "Epoch 50/50\n",
            "11/11 [==============================] - 2s 201ms/step - loss: 0.0039 - accuracy: 0.9970 - val_loss: 0.4033 - val_accuracy: 0.8916\n"
          ]
        }
      ],
      "source": [
        "# Define the model\n",
        "pre_trained_model = VGG16(input_shape=input_shape, include_top=False, weights=\"imagenet\")\n",
        "for layer in pre_trained_model.layers[:15]:\n",
        "    layer.trainable = False\n",
        "for layer in pre_trained_model.layers[15:]:\n",
        "    layer.trainable = True\n",
        "last_layer = pre_trained_model.get_layer('block5_pool')\n",
        "last_output = last_layer.output\n",
        "x = GlobalMaxPooling2D()(last_output)\n",
        "\n",
        "x = BatchNormalization(axis=1)(x)\n",
        "x = Dense(512, activation='relu')(x)\n",
        "x = Dropout(0.5)(x)\n",
        "x = Dense(len(categories), activation='softmax')(x)  # Change activation to softmax and number of neurons to num_classes #, kernel_constraint=unit_norm(\n",
        "model = Model(pre_trained_model.input, x)\n",
        "\n",
        "# Compile the model\n",
        "model.compile(loss='sparse_categorical_crossentropy',  # Change loss function to sparse categorical cross-entropy\n",
        "              optimizer=optimizers.Adam(lr=3e-4),  # Change optimizer to Adam and learning rate to 3e-4\n",
        "              metrics=['accuracy'])\n",
        "\n",
        "# Define early stopping\n",
        "early_stopping = EarlyStopping(monitor='val_loss', patience=5, restore_best_weights=True)\n",
        "\n",
        "# Train the model\n",
        "history = model.fit(X_train, y_train, validation_data=(X_validate, y_validate), epochs=epochs, batch_size=batch_size) #, callbacks=[early_stopping]\n",
        "\n"
      ]
    },
    {
      "cell_type": "code",
      "source": [
        "# Plot accuracy graph\n",
        "plt.plot(history.history['accuracy'], label='accuracy')\n",
        "plt.plot(history.history['val_accuracy'], label='val_accuracy')\n",
        "plt.xlabel('Epoch')\n",
        "plt.ylabel('Accuracy')\n",
        "plt.legend(loc='lower right')\n",
        "plt.show()"
      ],
      "metadata": {
        "colab": {
          "base_uri": "https://localhost:8080/",
          "height": 449
        },
        "id": "JwEfqOXQzR9B",
        "outputId": "49816f4e-e152-4b37-bbb8-209b652443bf"
      },
      "id": "JwEfqOXQzR9B",
      "execution_count": null,
      "outputs": [
        {
          "output_type": "display_data",
          "data": {
            "text/plain": [
              "<Figure size 640x480 with 1 Axes>"
            ],
            "image/png": "[encoded data removed]"
          },
          "metadata": {}
        }
      ]
    },
    {
      "cell_type": "code",
      "source": [
        "y_pred = model.predict(X_validate)\n",
        "y_pred_classes = np.argmax(y_pred, axis=1)\n",
        "\n",
        "# Generate classification report\n",
        "print(\"Classification Report:\")\n",
        "print(classification_report(y_validate, y_pred_classes, target_names=categories))\n",
        "\n",
        "# Generate confusion matrix\n",
        "cm = confusion_matrix(y_validate, y_pred_classes)\n",
        "plt.figure(figsize=(8, 6))\n",
        "sns.heatmap(cm, annot=True, fmt='d', cmap='Blues', xticklabels=categories, yticklabels=categories)\n",
        "plt.xlabel('Predicted')\n",
        "plt.ylabel('Actual')\n",
        "plt.title('Confusion Matrix')\n",
        "plt.show()"
      ],
      "metadata": {
        "colab": {
          "base_uri": "https://localhost:8080/",
          "height": 790
        },
        "id": "Y6AGwx5VzVOg",
        "outputId": "bd2eb9ca-dd26-4817-d609-bd5bcfb044ea"
      },
      "id": "Y6AGwx5VzVOg",
      "execution_count": null,
      "outputs": [
        {
          "output_type": "stream",
          "name": "stdout",
          "text": [
            "3/3 [==============================] - 0s 117ms/step\n",
            "Classification Report:\n",
            "              precision    recall  f1-score   support\n",
            "\n",
            "          NE       0.76      1.00      0.86        22\n",
            "         DME       1.00      1.00      1.00        21\n",
            "         DR1       0.89      0.80      0.84        20\n",
            "          GL       1.00      0.75      0.86        20\n",
            "\n",
            "    accuracy                           0.89        83\n",
            "   macro avg       0.91      0.89      0.89        83\n",
            "weighted avg       0.91      0.89      0.89        83\n",
            "\n"
          ]
        },
        {
          "output_type": "display_data",
          "data": {
            "text/plain": [
              "<Figure size 800x600 with 2 Axes>"
            ],
            "image/png": "[encoded data removed]"
          },
          "metadata": {}
        }
      ]
    },
    {
      "cell_type": "code",
      "source": [
        "\n",
        "drive.mount('/content/drive')\n",
        "\n",
        "# Model parameters\n",
        "image_size = 224\n",
        "input_shape = (image_size, image_size, 3)\n",
        "epochs = 50\n",
        "batch_size = 32\n",
        "\n",
        "# Define the dataset path and categories\n",
        "dataset_path = '/content/drive/My Drive/new_fol_vig'\n",
        "categories = ['NE', 'DME']\n",
        "\n",
        "# Initialize an empty list to store labels\n",
        "labels = []\n",
        "\n",
        "# Iterate through the directories in the dataset path\n",
        "for category in categories:\n",
        "    category_path = os.path.join(dataset_path, category)\n",
        "    # Check if the directory exists and is indeed a directory\n",
        "    if os.path.isdir(category_path):\n",
        "        # List all files in the category directory\n",
        "        file_names = os.listdir(category_path)\n",
        "        # Iterate through each file in the directory\n",
        "        for file_name in file_names:\n",
        "            # Construct the full file path\n",
        "            file_path = os.path.join(category_path, file_name)\n",
        "            # Append the filename and category to the labels list\n",
        "            labels.append((file_path, category))\n",
        "\n",
        "# Create a DataFrame from the labels list\n",
        "df = pd.DataFrame(data=labels, columns=['filename', 'category'])\n",
        "\n",
        "# Encode the 'category' column\n",
        "encoder = LabelEncoder()\n",
        "df['category'] = encoder.fit_transform(df['category'])\n",
        "print(df.head())\n",
        "df = df.sample(frac=1).reset_index(drop=True)\n",
        "\n",
        "# Split the DataFrame into train and validation sets\n",
        "train_df, validate_df = train_test_split(df, test_size=0.2)\n",
        "\n",
        "# Load images and labels from DataFrame\n",
        "X_train = np.array([img_to_array(load_img(img_path, target_size=(image_size, image_size))) for img_path in train_df['filename']])\n",
        "y_train = np.array(train_df['category'])\n",
        "X_validate = np.array([img_to_array(load_img(img_path, target_size=(image_size, image_size))) for img_path in validate_df['filename']])\n",
        "y_validate = np.array(validate_df['category'])\n",
        "\n",
        "# Normalize pixel values to the range [0, 1]\n",
        "X_train = X_train / 255.0\n",
        "X_validate = X_validate / 255.0\n",
        "\n",
        "\n"
      ],
      "metadata": {
        "colab": {
          "base_uri": "https://localhost:8080/",
          "height": 332
        },
        "id": "_1siwbM90Pwb",
        "outputId": "5b7d583e-e2d1-41a9-e006-2ee50c666179"
      },
      "id": "_1siwbM90Pwb",
      "execution_count": null,
      "outputs": [
        {
          "output_type": "stream",
          "name": "stdout",
          "text": [
            "Drive already mounted at /content/drive; to attempt to forcibly remount, call drive.mount(\"/content/drive\", force_remount=True).\n",
            "                                            filename  category\n",
            "0  /content/drive/My Drive/new_fol_vig/NE/NL_001.png         1\n",
            "1  /content/drive/My Drive/new_fol_vig/NE/NL_004.png         1\n",
            "2  /content/drive/My Drive/new_fol_vig/NE/NL_005.png         1\n",
            "3  /content/drive/My Drive/new_fol_vig/NE/NL_006.png         1\n",
            "4  /content/drive/My Drive/new_fol_vig/NE/NL_002.png         1\n"
          ]
        },
        {
          "output_type": "error",
          "ename": "NameError",
          "evalue": "name 'GlobalAveragePooling2D' is not defined",
          "traceback": [
            "\u001b[0;31m---------------------------------------------------------------------------\u001b[0m",
            "\u001b[0;31mNameError\u001b[0m                                 Traceback (most recent call last)",
            "\u001b[0;32m<ipython-input-5-a65d92f8b26f>\u001b[0m in \u001b[0;36m<cell line: 60>\u001b[0;34m()\u001b[0m\n\u001b[1;32m     58\u001b[0m \u001b[0mlast_layer\u001b[0m \u001b[0;34m=\u001b[0m \u001b[0mpre_trained_model\u001b[0m\u001b[0;34m.\u001b[0m\u001b[0mget_layer\u001b[0m\u001b[0;34m(\u001b[0m\u001b[0;34m'block5_pool'\u001b[0m\u001b[0;34m)\u001b[0m\u001b[0;34m\u001b[0m\u001b[0;34m\u001b[0m\u001b[0m\n\u001b[1;32m     59\u001b[0m \u001b[0mlast_output\u001b[0m \u001b[0;34m=\u001b[0m \u001b[0mlast_layer\u001b[0m\u001b[0;34m.\u001b[0m\u001b[0moutput\u001b[0m\u001b[0;34m\u001b[0m\u001b[0;34m\u001b[0m\u001b[0m\n\u001b[0;32m---> 60\u001b[0;31m \u001b[0mx\u001b[0m \u001b[0;34m=\u001b[0m \u001b[0mGlobalAveragePooling2D\u001b[0m\u001b[0;34m(\u001b[0m\u001b[0;34m)\u001b[0m\u001b[0;34m(\u001b[0m\u001b[0mlast_output\u001b[0m\u001b[0;34m)\u001b[0m\u001b[0;34m\u001b[0m\u001b[0;34m\u001b[0m\u001b[0m\n\u001b[0m\u001b[1;32m     61\u001b[0m \u001b[0;34m\u001b[0m\u001b[0m\n\u001b[1;32m     62\u001b[0m \u001b[0mx\u001b[0m \u001b[0;34m=\u001b[0m \u001b[0mBatchNormalization\u001b[0m\u001b[0;34m(\u001b[0m\u001b[0maxis\u001b[0m\u001b[0;34m=\u001b[0m\u001b[0;36m1\u001b[0m\u001b[0;34m)\u001b[0m\u001b[0;34m(\u001b[0m\u001b[0mx\u001b[0m\u001b[0;34m)\u001b[0m\u001b[0;34m\u001b[0m\u001b[0;34m\u001b[0m\u001b[0m\n",
            "\u001b[0;31mNameError\u001b[0m: name 'GlobalAveragePooling2D' is not defined"
          ]
        }
      ]
    },
    {
      "cell_type": "code",
      "source": [
        "# Define the model\n",
        "from tensorflow.keras.models import Model\n",
        "from tensorflow.keras.layers import Conv2D, MaxPooling2D, Dropout, Flatten, Dense, GlobalMaxPooling2D, BatchNormalization\n",
        "pre_trained_model = VGG16(input_shape=input_shape, include_top=False, weights=\"imagenet\")\n",
        "for layer in pre_trained_model.layers[:15]:\n",
        "    layer.trainable = False\n",
        "for layer in pre_trained_model.layers[15:]:\n",
        "    layer.trainable = True\n",
        "last_layer = pre_trained_model.get_layer('block5_pool')\n",
        "last_output = last_layer.output\n",
        "x = GlobalMaxPooling2D()(last_output)\n",
        "\n",
        "x = BatchNormalization(axis=1)(x)\n",
        "x = Dense(512, activation='relu')(x)\n",
        "x = Dropout(0.5)(x)\n",
        "x = Dense(len(categories), activation='softmax')(x)  # Change activation to softmax and number of neurons to num_classes #, kernel_constraint=unit_norm(\n",
        "model = Model(pre_trained_model.input, x)\n",
        "\n",
        "# Compile the model\n",
        "model.compile(loss='sparse_categorical_crossentropy',  # Change loss function to sparse categorical cross-entropy\n",
        "              optimizer=optimizers.Adam(lr=3e-4),  # Change optimizer to Adam and learning rate to 3e-4\n",
        "              metrics=['accuracy'])\n",
        "\n",
        "# Define early stopping\n",
        "early_stopping = EarlyStopping(monitor='val_loss', patience=5, restore_best_weights=True)\n",
        "\n",
        "# Train the model\n",
        "history = model.fit(X_train, y_train, validation_data=(X_validate, y_validate), epochs=epochs, batch_size=batch_size, callbacks=[early_stopping])\n",
        "\n",
        "\n",
        "# Make predictions\n",
        "y_pred = np.argmax(model.predict(X_validate), axis=-1)\n",
        "\n",
        "# Generate classification report\n",
        "print(\"Classification Report:\")\n",
        "print(classification_report(y_validate, y_pred, target_names=categories))\n",
        "\n",
        "# Generate confusion matrix\n",
        "cm = confusion_matrix(y_validate, y_pred)\n",
        "plt.figure(figsize=(8, 6))\n",
        "sns.heatmap(cm, annot=True, fmt='d', cmap='Blues', xticklabels=categories, yticklabels=categories)\n",
        "plt.xlabel('Predicted')\n",
        "plt.ylabel('Actual')\n",
        "plt.title('Confusion Matrix')\n",
        "plt.show()"
      ],
      "metadata": {
        "colab": {
          "base_uri": "https://localhost:8080/",
          "height": 1000
        },
        "id": "7Y-mq-ARODbq",
        "outputId": "6f5ee235-d8af-404c-c96a-96b4f5c32717"
      },
      "id": "7Y-mq-ARODbq",
      "execution_count": null,
      "outputs": [
        {
          "output_type": "stream",
          "name": "stderr",
          "text": [
            "WARNING:absl:`lr` is deprecated in Keras optimizer, please use `learning_rate` or use the legacy optimizer, e.g.,tf.keras.optimizers.legacy.Adam.\n"
          ]
        },
        {
          "output_type": "stream",
          "name": "stdout",
          "text": [
            "Epoch 1/50\n",
            "5/5 [==============================] - 11s 2s/step - loss: 0.4014 - accuracy: 0.8188 - val_loss: 0.8118 - val_accuracy: 0.7105\n",
            "Epoch 2/50\n",
            "5/5 [==============================] - 1s 214ms/step - loss: 0.0395 - accuracy: 0.9933 - val_loss: 28.3287 - val_accuracy: 0.5263\n",
            "Epoch 3/50\n",
            "5/5 [==============================] - 1s 215ms/step - loss: 0.0152 - accuracy: 0.9933 - val_loss: 32.7659 - val_accuracy: 0.5263\n",
            "Epoch 4/50\n",
            "5/5 [==============================] - 1s 215ms/step - loss: 0.0049 - accuracy: 1.0000 - val_loss: 24.9893 - val_accuracy: 0.5263\n",
            "Epoch 5/50\n",
            "5/5 [==============================] - 1s 215ms/step - loss: 0.0117 - accuracy: 0.9933 - val_loss: 14.3130 - val_accuracy: 0.5263\n",
            "Epoch 6/50\n",
            "5/5 [==============================] - 1s 227ms/step - loss: 0.0048 - accuracy: 1.0000 - val_loss: 0.1443 - val_accuracy: 0.9211\n",
            "Epoch 7/50\n",
            "5/5 [==============================] - 1s 224ms/step - loss: 8.0252e-04 - accuracy: 1.0000 - val_loss: 9.5116e-05 - val_accuracy: 1.0000\n",
            "Epoch 8/50\n",
            "5/5 [==============================] - 1s 225ms/step - loss: 3.0193e-04 - accuracy: 1.0000 - val_loss: 7.9958e-05 - val_accuracy: 1.0000\n",
            "Epoch 9/50\n",
            "5/5 [==============================] - 1s 179ms/step - loss: 7.7408e-05 - accuracy: 1.0000 - val_loss: 0.0018 - val_accuracy: 1.0000\n",
            "Epoch 10/50\n",
            "5/5 [==============================] - 1s 178ms/step - loss: 1.6995e-04 - accuracy: 1.0000 - val_loss: 0.0055 - val_accuracy: 1.0000\n",
            "Epoch 11/50\n",
            "5/5 [==============================] - 1s 181ms/step - loss: 9.7858e-05 - accuracy: 1.0000 - val_loss: 0.0022 - val_accuracy: 1.0000\n",
            "Epoch 12/50\n",
            "5/5 [==============================] - 1s 182ms/step - loss: 1.7206e-04 - accuracy: 1.0000 - val_loss: 5.0560e-04 - val_accuracy: 1.0000\n",
            "Epoch 13/50\n",
            "5/5 [==============================] - 1s 197ms/step - loss: 8.5441e-05 - accuracy: 1.0000 - val_loss: 5.6788e-05 - val_accuracy: 1.0000\n",
            "Epoch 14/50\n",
            "5/5 [==============================] - 1s 231ms/step - loss: 3.4063e-04 - accuracy: 1.0000 - val_loss: 1.0304e-05 - val_accuracy: 1.0000\n",
            "Epoch 15/50\n",
            "5/5 [==============================] - 1s 228ms/step - loss: 9.0823e-05 - accuracy: 1.0000 - val_loss: 2.0171e-06 - val_accuracy: 1.0000\n",
            "Epoch 16/50\n",
            "5/5 [==============================] - 1s 179ms/step - loss: 1.3124e-04 - accuracy: 1.0000 - val_loss: 8.3563e-06 - val_accuracy: 1.0000\n",
            "Epoch 17/50\n",
            "5/5 [==============================] - 1s 181ms/step - loss: 4.6649e-04 - accuracy: 1.0000 - val_loss: 8.0012e-05 - val_accuracy: 1.0000\n",
            "Epoch 18/50\n",
            "5/5 [==============================] - 1s 179ms/step - loss: 1.6979e-04 - accuracy: 1.0000 - val_loss: 3.7124e-04 - val_accuracy: 1.0000\n",
            "Epoch 19/50\n",
            "5/5 [==============================] - 1s 183ms/step - loss: 2.1353e-04 - accuracy: 1.0000 - val_loss: 3.0153e-04 - val_accuracy: 1.0000\n",
            "Epoch 20/50\n",
            "5/5 [==============================] - 1s 192ms/step - loss: 1.5357e-04 - accuracy: 1.0000 - val_loss: 3.3745e-04 - val_accuracy: 1.0000\n",
            "2/2 [==============================] - 0s 106ms/step\n",
            "Classification Report:\n",
            "              precision    recall  f1-score   support\n",
            "\n",
            "          NE       1.00      1.00      1.00        20\n",
            "         DME       1.00      1.00      1.00        18\n",
            "\n",
            "    accuracy                           1.00        38\n",
            "   macro avg       1.00      1.00      1.00        38\n",
            "weighted avg       1.00      1.00      1.00        38\n",
            "\n"
          ]
        },
        {
          "output_type": "display_data",
          "data": {
            "text/plain": [
              "<Figure size 800x600 with 2 Axes>"
            ],
            "image/png": "[encoded data removed]"
          },
          "metadata": {}
        }
      ]
    },
    {
      "cell_type": "code",
      "source": [
        "\n",
        "drive.mount('/content/drive')\n",
        "\n",
        "# Model parameters\n",
        "image_size = 224\n",
        "input_shape = (image_size, image_size, 3)\n",
        "epochs = 50\n",
        "batch_size = 32\n",
        "\n",
        "# Define the dataset path and categories\n",
        "dataset_path = '/content/drive/My Drive/new_fol_vig'\n",
        "categories = ['NE', 'DR1']\n",
        "\n",
        "# Initialize an empty list to store labels\n",
        "labels = []\n",
        "\n",
        "# Iterate through the directories in the dataset path\n",
        "for category in categories:\n",
        "    category_path = os.path.join(dataset_path, category)\n",
        "    # Check if the directory exists and is indeed a directory\n",
        "    if os.path.isdir(category_path):\n",
        "        # List all files in the category directory\n",
        "        file_names = os.listdir(category_path)\n",
        "        # Iterate through each file in the directory\n",
        "        for file_name in file_names:\n",
        "            # Construct the full file path\n",
        "            file_path = os.path.join(category_path, file_name)\n",
        "            # Append the filename and category to the labels list\n",
        "            labels.append((file_path, category))\n",
        "\n",
        "# Create a DataFrame from the labels list\n",
        "df = pd.DataFrame(data=labels, columns=['filename', 'category'])\n",
        "\n",
        "# Encode the 'category' column\n",
        "encoder = LabelEncoder()\n",
        "df['category'] = encoder.fit_transform(df['category'])\n",
        "print(df.head())\n",
        "df = df.sample(frac=1).reset_index(drop=True)\n",
        "\n",
        "# Split the DataFrame into train and validation sets\n",
        "train_df, validate_df = train_test_split(df, test_size=0.2)\n",
        "\n",
        "# Load images and labels from DataFrame\n",
        "X_train = np.array([img_to_array(load_img(img_path, target_size=(image_size, image_size))) for img_path in train_df['filename']])\n",
        "y_train = np.array(train_df['category'])\n",
        "X_validate = np.array([img_to_array(load_img(img_path, target_size=(image_size, image_size))) for img_path in validate_df['filename']])\n",
        "y_validate = np.array(validate_df['category'])\n",
        "\n",
        "# Normalize pixel values to the range [0, 1]\n",
        "X_train = X_train / 255.0\n",
        "X_validate = X_validate / 255.0\n",
        "\n",
        "\n"
      ],
      "metadata": {
        "colab": {
          "base_uri": "https://localhost:8080/"
        },
        "id": "1PSyC-mkOh7_",
        "outputId": "5fddfc58-e768-4ee0-9cc2-d3513a3f281b"
      },
      "id": "1PSyC-mkOh7_",
      "execution_count": null,
      "outputs": [
        {
          "output_type": "stream",
          "name": "stdout",
          "text": [
            "Drive already mounted at /content/drive; to attempt to forcibly remount, call drive.mount(\"/content/drive\", force_remount=True).\n",
            "                                            filename  category\n",
            "0  /content/drive/My Drive/new_fol_vig/NE/NL_001.png         1\n",
            "1  /content/drive/My Drive/new_fol_vig/NE/NL_004.png         1\n",
            "2  /content/drive/My Drive/new_fol_vig/NE/NL_005.png         1\n",
            "3  /content/drive/My Drive/new_fol_vig/NE/NL_006.png         1\n",
            "4  /content/drive/My Drive/new_fol_vig/NE/NL_002.png         1\n"
          ]
        }
      ]
    },
    {
      "cell_type": "code",
      "source": [
        "# Define the model\n",
        "from tensorflow.keras.models import Model\n",
        "from tensorflow.keras.layers import Conv2D, MaxPooling2D, Dropout, Flatten, Dense, GlobalMaxPooling2D, BatchNormalization\n",
        "pre_trained_model = VGG16(input_shape=input_shape, include_top=False, weights=\"imagenet\")\n",
        "for layer in pre_trained_model.layers[:15]:\n",
        "    layer.trainable = False\n",
        "for layer in pre_trained_model.layers[15:]:\n",
        "    layer.trainable = True\n",
        "last_layer = pre_trained_model.get_layer('block5_pool')\n",
        "last_output = last_layer.output\n",
        "x = GlobalMaxPooling2D()(last_output)\n",
        "\n",
        "x = BatchNormalization(axis=1)(x)\n",
        "x = Dense(512, activation='relu')(x)\n",
        "x = Dropout(0.5)(x)\n",
        "x = Dense(len(categories), activation='softmax')(x)  # Change activation to softmax and number of neurons to num_classes #, kernel_constraint=unit_norm(\n",
        "model = Model(pre_trained_model.input, x)\n",
        "\n",
        "# Compile the model\n",
        "model.compile(loss='sparse_categorical_crossentropy',  # Change loss function to sparse categorical cross-entropy\n",
        "              optimizer=optimizers.Adam(lr=3e-4),  # Change optimizer to Adam and learning rate to 3e-4\n",
        "              metrics=['accuracy'])\n",
        "\n",
        "# Define early stopping\n",
        "early_stopping = EarlyStopping(monitor='val_loss', patience=5, restore_best_weights=True)\n",
        "\n",
        "# Train the model\n",
        "history = model.fit(X_train, y_train, validation_data=(X_validate, y_validate), epochs=epochs, batch_size=batch_size, callbacks=[early_stopping])\n",
        "\n",
        "\n",
        "# Make predictions\n",
        "y_pred = np.argmax(model.predict(X_validate), axis=-1)\n",
        "\n",
        "# Generate classification report\n",
        "print(\"Classification Report:\")\n",
        "print(classification_report(y_validate, y_pred, target_names=categories))\n",
        "\n",
        "# Generate confusion matrix\n",
        "cm = confusion_matrix(y_validate, y_pred)\n",
        "plt.figure(figsize=(8, 6))\n",
        "sns.heatmap(cm, annot=True, fmt='d', cmap='Blues', xticklabels=categories, yticklabels=categories)\n",
        "plt.xlabel('Predicted')\n",
        "plt.ylabel('Actual')\n",
        "plt.title('Confusion Matrix')\n",
        "plt.show()"
      ],
      "metadata": {
        "colab": {
          "base_uri": "https://localhost:8080/",
          "height": 1000
        },
        "id": "yYSYxk2NOfGG",
        "outputId": "8d3ce5bb-e152-417d-e977-79275d410c81"
      },
      "id": "yYSYxk2NOfGG",
      "execution_count": null,
      "outputs": [
        {
          "output_type": "stream",
          "name": "stderr",
          "text": [
            "WARNING:absl:`lr` is deprecated in Keras optimizer, please use `learning_rate` or use the legacy optimizer, e.g.,tf.keras.optimizers.legacy.Adam.\n"
          ]
        },
        {
          "output_type": "stream",
          "name": "stdout",
          "text": [
            "Epoch 1/50\n",
            "6/6 [==============================] - 13s 2s/step - loss: 0.2151 - accuracy: 0.9023 - val_loss: 2.1698 - val_accuracy: 0.4545\n",
            "Epoch 2/50\n",
            "6/6 [==============================] - 1s 167ms/step - loss: 9.8885e-05 - accuracy: 1.0000 - val_loss: 7.0656 - val_accuracy: 0.4545\n",
            "Epoch 3/50\n",
            "6/6 [==============================] - 1s 205ms/step - loss: 1.0018e-05 - accuracy: 1.0000 - val_loss: 1.5042 - val_accuracy: 0.6364\n",
            "Epoch 4/50\n",
            "6/6 [==============================] - 1s 172ms/step - loss: 8.0503e-04 - accuracy: 1.0000 - val_loss: 6.4524 - val_accuracy: 0.4545\n",
            "Epoch 5/50\n",
            "6/6 [==============================] - 1s 172ms/step - loss: 1.8079e-05 - accuracy: 1.0000 - val_loss: 40.8773 - val_accuracy: 0.4545\n",
            "Epoch 6/50\n",
            "6/6 [==============================] - 1s 197ms/step - loss: 3.6550e-04 - accuracy: 1.0000 - val_loss: 24.5207 - val_accuracy: 0.4545\n",
            "Epoch 7/50\n",
            "6/6 [==============================] - 1s 175ms/step - loss: 3.5981e-05 - accuracy: 1.0000 - val_loss: 0.0774 - val_accuracy: 0.9773\n",
            "Epoch 8/50\n",
            "6/6 [==============================] - 1s 176ms/step - loss: 2.9792e-05 - accuracy: 1.0000 - val_loss: 5.9605e-08 - val_accuracy: 1.0000\n",
            "Epoch 9/50\n",
            "6/6 [==============================] - 1s 167ms/step - loss: 5.2160e-06 - accuracy: 1.0000 - val_loss: 7.1614e-04 - val_accuracy: 1.0000\n",
            "Epoch 10/50\n",
            "6/6 [==============================] - 1s 168ms/step - loss: 5.4677e-06 - accuracy: 1.0000 - val_loss: 0.0094 - val_accuracy: 1.0000\n",
            "Epoch 11/50\n",
            "6/6 [==============================] - 1s 168ms/step - loss: 3.4193e-05 - accuracy: 1.0000 - val_loss: 1.7729e-04 - val_accuracy: 1.0000\n",
            "Epoch 12/50\n",
            "6/6 [==============================] - 1s 192ms/step - loss: 2.8719e-06 - accuracy: 1.0000 - val_loss: 2.5304e-06 - val_accuracy: 1.0000\n",
            "Epoch 13/50\n",
            "6/6 [==============================] - 1s 200ms/step - loss: 1.9230e-05 - accuracy: 1.0000 - val_loss: 1.8965e-08 - val_accuracy: 1.0000\n",
            "Epoch 14/50\n",
            "6/6 [==============================] - 1s 200ms/step - loss: 2.1730e-06 - accuracy: 1.0000 - val_loss: 0.0000e+00 - val_accuracy: 1.0000\n",
            "Epoch 15/50\n",
            "6/6 [==============================] - 1s 169ms/step - loss: 1.5689e-06 - accuracy: 1.0000 - val_loss: 2.7093e-09 - val_accuracy: 1.0000\n",
            "Epoch 16/50\n",
            "6/6 [==============================] - 1s 171ms/step - loss: 3.8331e-06 - accuracy: 1.0000 - val_loss: 2.7093e-09 - val_accuracy: 1.0000\n",
            "Epoch 17/50\n",
            "6/6 [==============================] - 1s 179ms/step - loss: 5.1520e-07 - accuracy: 1.0000 - val_loss: 5.4186e-09 - val_accuracy: 1.0000\n",
            "Epoch 18/50\n",
            "6/6 [==============================] - 1s 177ms/step - loss: 7.7212e-07 - accuracy: 1.0000 - val_loss: 2.1674e-08 - val_accuracy: 1.0000\n",
            "Epoch 19/50\n",
            "6/6 [==============================] - 1s 185ms/step - loss: 2.7658e-06 - accuracy: 1.0000 - val_loss: 2.9802e-08 - val_accuracy: 1.0000\n",
            "2/2 [==============================] - 0s 163ms/step\n",
            "Classification Report:\n",
            "              precision    recall  f1-score   support\n",
            "\n",
            "          NE       1.00      1.00      1.00        24\n",
            "         DR1       1.00      1.00      1.00        20\n",
            "\n",
            "    accuracy                           1.00        44\n",
            "   macro avg       1.00      1.00      1.00        44\n",
            "weighted avg       1.00      1.00      1.00        44\n",
            "\n"
          ]
        },
        {
          "output_type": "display_data",
          "data": {
            "text/plain": [
              "<Figure size 800x600 with 2 Axes>"
            ],
            "image/png": "[encoded data removed]"
          },
          "metadata": {}
        }
      ]
    },
    {
      "cell_type": "code",
      "source": [],
      "metadata": {
        "id": "8AYY6jzXOpQs"
      },
      "id": "8AYY6jzXOpQs",
      "execution_count": null,
      "outputs": []
    },
    {
      "cell_type": "code",
      "source": [
        "\n",
        "drive.mount('/content/drive')\n",
        "\n",
        "# Model parameters\n",
        "image_size = 224\n",
        "input_shape = (image_size, image_size, 3)\n",
        "epochs = 50\n",
        "batch_size = 32\n",
        "\n",
        "# Define the dataset path and categories\n",
        "dataset_path = '/content/drive/My Drive/new_fol_vig'\n",
        "categories = ['NE', 'GL']\n",
        "\n",
        "# Initialize an empty list to store labels\n",
        "labels = []\n",
        "\n",
        "# Iterate through the directories in the dataset path\n",
        "for category in categories:\n",
        "    category_path = os.path.join(dataset_path, category)\n",
        "    # Check if the directory exists and is indeed a directory\n",
        "    if os.path.isdir(category_path):\n",
        "        # List all files in the category directory\n",
        "        file_names = os.listdir(category_path)\n",
        "        # Iterate through each file in the directory\n",
        "        for file_name in file_names:\n",
        "            # Construct the full file path\n",
        "            file_path = os.path.join(category_path, file_name)\n",
        "            # Append the filename and category to the labels list\n",
        "            labels.append((file_path, category))\n",
        "\n",
        "# Create a DataFrame from the labels list\n",
        "df = pd.DataFrame(data=labels, columns=['filename', 'category'])\n",
        "\n",
        "# Encode the 'category' column\n",
        "encoder = LabelEncoder()\n",
        "df['category'] = encoder.fit_transform(df['category'])\n",
        "print(df.head())\n",
        "df = df.sample(frac=1).reset_index(drop=True)\n",
        "\n",
        "# Split the DataFrame into train and validation sets\n",
        "train_df, validate_df = train_test_split(df, test_size=0.2)\n",
        "\n",
        "# Load images and labels from DataFrame\n",
        "X_train = np.array([img_to_array(load_img(img_path, target_size=(image_size, image_size))) for img_path in train_df['filename']])\n",
        "y_train = np.array(train_df['category'])\n",
        "X_validate = np.array([img_to_array(load_img(img_path, target_size=(image_size, image_size))) for img_path in validate_df['filename']])\n",
        "y_validate = np.array(validate_df['category'])\n",
        "\n",
        "# Normalize pixel values to the range [0, 1]\n",
        "X_train = X_train / 255.0\n",
        "X_validate = X_validate / 255.0\n",
        "\n",
        "\n"
      ],
      "metadata": {
        "colab": {
          "base_uri": "https://localhost:8080/"
        },
        "id": "w7F4aHMfOlbd",
        "outputId": "174b8912-d5af-4ae7-c6f8-cdccd1e98a23"
      },
      "id": "w7F4aHMfOlbd",
      "execution_count": null,
      "outputs": [
        {
          "output_type": "stream",
          "name": "stdout",
          "text": [
            "Drive already mounted at /content/drive; to attempt to forcibly remount, call drive.mount(\"/content/drive\", force_remount=True).\n",
            "                                            filename  category\n",
            "0  /content/drive/My Drive/new_fol_vig/NE/NL_001.png         1\n",
            "1  /content/drive/My Drive/new_fol_vig/NE/NL_004.png         1\n",
            "2  /content/drive/My Drive/new_fol_vig/NE/NL_005.png         1\n",
            "3  /content/drive/My Drive/new_fol_vig/NE/NL_006.png         1\n",
            "4  /content/drive/My Drive/new_fol_vig/NE/NL_002.png         1\n"
          ]
        }
      ]
    },
    {
      "cell_type": "code",
      "source": [
        "# Define the model\n",
        "from tensorflow.keras.models import Model\n",
        "from tensorflow.keras.layers import Conv2D, MaxPooling2D, Dropout, Flatten, Dense, GlobalMaxPooling2D, BatchNormalization\n",
        "pre_trained_model = VGG16(input_shape=input_shape, include_top=False, weights=\"imagenet\")\n",
        "for layer in pre_trained_model.layers[:15]:\n",
        "    layer.trainable = False\n",
        "for layer in pre_trained_model.layers[15:]:\n",
        "    layer.trainable = True\n",
        "last_layer = pre_trained_model.get_layer('block5_pool')\n",
        "last_output = last_layer.output\n",
        "x = GlobalMaxPooling2D()(last_output)\n",
        "\n",
        "x = BatchNormalization(axis=1)(x)\n",
        "x = Dense(512, activation='relu')(x)\n",
        "x = Dropout(0.5)(x)\n",
        "x = Dense(len(categories), activation='softmax')(x)  # Change activation to softmax and number of neurons to num_classes #, kernel_constraint=unit_norm(\n",
        "model = Model(pre_trained_model.input, x)\n",
        "\n",
        "# Compile the model\n",
        "model.compile(loss='sparse_categorical_crossentropy',  # Change loss function to sparse categorical cross-entropy\n",
        "              optimizer=optimizers.Adam(lr=3e-4),  # Change optimizer to Adam and learning rate to 3e-4\n",
        "              metrics=['accuracy'])\n",
        "\n",
        "# Define early stopping\n",
        "early_stopping = EarlyStopping(monitor='val_loss', patience=5, restore_best_weights=True)\n",
        "\n",
        "# Train the model\n",
        "history = model.fit(X_train, y_train, validation_data=(X_validate, y_validate), epochs=epochs, batch_size=batch_size, callbacks=[early_stopping])\n",
        "\n",
        "\n",
        "# Make predictions\n",
        "y_pred = np.argmax(model.predict(X_validate), axis=-1)\n",
        "\n",
        "# Generate classification report\n",
        "print(\"Classification Report:\")\n",
        "print(classification_report(y_validate, y_pred, target_names=categories))\n",
        "\n",
        "# Generate confusion matrix\n",
        "cm = confusion_matrix(y_validate, y_pred)\n",
        "plt.figure(figsize=(8, 6))\n",
        "sns.heatmap(cm, annot=True, fmt='d', cmap='Blues', xticklabels=categories, yticklabels=categories)\n",
        "plt.xlabel('Predicted')\n",
        "plt.ylabel('Actual')\n",
        "plt.title('Confusion Matrix')\n",
        "plt.show()"
      ],
      "metadata": {
        "colab": {
          "base_uri": "https://localhost:8080/",
          "height": 981
        },
        "id": "SZ4xlHSjOqz3",
        "outputId": "dae05c66-d0c1-4fce-8e43-e61958a8f305"
      },
      "id": "SZ4xlHSjOqz3",
      "execution_count": null,
      "outputs": [
        {
          "output_type": "stream",
          "name": "stderr",
          "text": [
            "WARNING:absl:`lr` is deprecated in Keras optimizer, please use `learning_rate` or use the legacy optimizer, e.g.,tf.keras.optimizers.legacy.Adam.\n"
          ]
        },
        {
          "output_type": "stream",
          "name": "stdout",
          "text": [
            "Epoch 1/50\n",
            "5/5 [==============================] - 12s 2s/step - loss: 1.0747 - accuracy: 0.5613 - val_loss: 0.9561 - val_accuracy: 0.6410\n",
            "Epoch 2/50\n",
            "5/5 [==============================] - 1s 222ms/step - loss: 0.6380 - accuracy: 0.6710 - val_loss: 5.1120 - val_accuracy: 0.6154\n",
            "Epoch 3/50\n",
            "5/5 [==============================] - 1s 189ms/step - loss: 0.4698 - accuracy: 0.7871 - val_loss: 11.1879 - val_accuracy: 0.6154\n",
            "Epoch 4/50\n",
            "5/5 [==============================] - 1s 226ms/step - loss: 0.4918 - accuracy: 0.7677 - val_loss: 1.0299 - val_accuracy: 0.7692\n",
            "Epoch 5/50\n",
            "5/5 [==============================] - 1s 231ms/step - loss: 0.3393 - accuracy: 0.8710 - val_loss: 24.9523 - val_accuracy: 0.6154\n",
            "Epoch 6/50\n",
            "5/5 [==============================] - 1s 211ms/step - loss: 0.2864 - accuracy: 0.8839 - val_loss: 3.9951 - val_accuracy: 0.6154\n",
            "2/2 [==============================] - 0s 112ms/step\n",
            "Classification Report:\n",
            "              precision    recall  f1-score   support\n",
            "\n",
            "          NE       0.64      0.96      0.77        24\n",
            "          GL       0.67      0.13      0.22        15\n",
            "\n",
            "    accuracy                           0.64        39\n",
            "   macro avg       0.65      0.55      0.49        39\n",
            "weighted avg       0.65      0.64      0.56        39\n",
            "\n"
          ]
        },
        {
          "output_type": "display_data",
          "data": {
            "text/plain": [
              "<Figure size 800x600 with 2 Axes>"
            ],
            "image/png": "[encoded data removed]"
          },
          "metadata": {}
        }
      ]
    },
    {
      "cell_type": "markdown",
      "source": [],
      "metadata": {
        "id": "HFwQM3DOLsl6"
      },
      "id": "HFwQM3DOLsl6"
    }
  ],
  "metadata": {
    "kernelspec": {
      "display_name": "Python 3",
      "name": "python3"
    },
    "language_info": {
      "codemirror_mode": {
        "name": "ipython",
        "version": 3
      },
      "file_extension": ".py",
      "mimetype": "text/x-python",
      "name": "python",
      "nbconvert_exporter": "python",
      "pygments_lexer": "ipython3",
      "version": "3.9.13"
    },
    "colab": {
      "provenance": [],
      "gpuType": "T4"
    },
    "accelerator": "GPU"
  },
  "nbformat": 4,
  "nbformat_minor": 5
}
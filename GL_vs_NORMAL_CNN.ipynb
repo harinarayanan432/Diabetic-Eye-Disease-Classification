{
  "nbformat": 4,
  "nbformat_minor": 0,
  "metadata": {
    "colab": {
      "provenance": [],
      "gpuType": "T4"
    },
    "kernelspec": {
      "name": "python3",
      "display_name": "Python 3"
    },
    "language_info": {
      "name": "python"
    },
    "accelerator": "GPU"
  },
  "cells": [
    {
      "cell_type": "code",
      "execution_count": null,
      "metadata": {
        "id": "sZfMIvRhSVlW"
      },
      "outputs": [],
      "source": [
        "from keras.models import Sequential\n",
        "from keras.layers import Dense, Activation, Dropout, Flatten, Conv2D, MaxPooling2D\n",
        "from keras.optimizers import SGD, RMSprop, Adam\n",
        "from sklearn import metrics\n",
        "from sklearn.utils import shuffle\n",
        "from sklearn.model_selection import train_test_split\n",
        "import matplotlib.image as mpimg\n",
        "import matplotlib.pyplot as plt\n",
        "import numpy as np\n",
        "import os\n",
        "import cv2\n",
        "from PIL import Image\n",
        "import tensorflow as tf"
      ]
    },
    {
      "cell_type": "code",
      "source": [
        "from google.colab import drive\n",
        "drive.mount('/content/drive')\n",
        "path_test='/content/drive/My Drive/od_alone'\n",
        "categories=['gl','norm']\n",
        "training = []\n",
        "\n",
        "def create():\n",
        "    for cat in categories:\n",
        "        path = os.path.join(path_test, cat)\n",
        "        class_num = categories.index(cat)\n",
        "        for img in os.listdir(path):\n",
        "            img_array = cv2.imread(os.path.join(path, img))\n",
        "            new_array = cv2.resize(img_array, (224, 224))\n",
        "            training.append([new_array, class_num])\n",
        "\n",
        "create()\n",
        "\n",
        "\n",
        "count1=0\n",
        "count2=0\n",
        "for i in range(len(training)):\n",
        "    if training[i][1]==0:\n",
        "        count1=count1+1\n",
        "    elif training[i][1]==1:\n",
        "        count2=count2+1\n",
        "\n",
        "print(count1,count2)"
      ],
      "metadata": {
        "id": "M28boSQpX6gI",
        "colab": {
          "base_uri": "https://localhost:8080/"
        },
        "outputId": "7756f6a3-309c-43cc-b2d9-5026ebd2b65c"
      },
      "execution_count": null,
      "outputs": [
        {
          "output_type": "stream",
          "name": "stdout",
          "text": [
            "Mounted at /content/drive\n",
            "101 141\n"
          ]
        }
      ]
    },
    {
      "cell_type": "code",
      "source": [
        "import random\n",
        "from keras.utils import to_categorical\n",
        "from tensorflow.keras.callbacks import EarlyStopping\n",
        "from tensorflow.keras.optimizers import RMSprop\n",
        "gpus = tf.config.experimental.list_physical_devices('GPU')\n",
        "if gpus:\n",
        "    try:\n",
        "        for gpu in gpus:\n",
        "            tf.config.experimental.set_memory_growth(gpu, True)\n",
        "        logical_gpus = tf.config.experimental.list_logical_devices('GPU')\n",
        "        print(len(gpus), \"Physical GPUs,\", len(logical_gpus), \"Logical GPUs\")\n",
        "    except RuntimeError as e:\n",
        "        print(e)\n"
      ],
      "metadata": {
        "id": "9HfFWxOjX6h8",
        "colab": {
          "base_uri": "https://localhost:8080/"
        },
        "outputId": "40734fff-88b5-4384-9540-0acc0320adcd"
      },
      "execution_count": null,
      "outputs": [
        {
          "output_type": "stream",
          "name": "stdout",
          "text": [
            "1 Physical GPUs, 1 Logical GPUs\n"
          ]
        }
      ]
    },
    {
      "cell_type": "code",
      "source": [
        "\n",
        "\n",
        "np.random.shuffle(training)\n",
        "X = []\n",
        "y = []\n",
        "\n",
        "for features, label in training:\n",
        "    X.append(features)\n",
        "    y.append(label)\n",
        "\n",
        "X = np.array(X).reshape(-1, 224, 224, 3)\n",
        "X = X.astype('float32') / 255.0\n",
        "Y = to_categorical(y, 2)\n",
        "X_train, X_test, y_train, y_test = train_test_split(X, y, test_size=0.2, random_state=42)\n",
        "y_train = np.array(y_train, dtype=np.int32)\n",
        "y_test = np.array(y_test, dtype=np.int32)\n",
        "\n",
        "# Model Architecture\n",
        "model = tf.keras.Sequential([\n",
        "    tf.keras.layers.Conv2D(64, (5, 5), strides=(1, 1), padding='same', activation='relu', input_shape=(224, 224, 3)),\n",
        "    tf.keras.layers.MaxPooling2D((2, 2), strides=2),\n",
        "    tf.keras.layers.Conv2D(128, (5, 5), strides=(1, 1), padding='same', activation='relu'),\n",
        "    tf.keras.layers.MaxPooling2D((2, 2), strides=2),\n",
        "    tf.keras.layers.Conv2D(256, (5, 5), strides=(1, 1), padding='same', activation='relu'),\n",
        "    tf.keras.layers.MaxPooling2D((2, 2), strides=2),\n",
        "    tf.keras.layers.Conv2D(512, (5, 5), strides=(1, 1), padding='same', activation='relu'),\n",
        "    tf.keras.layers.MaxPooling2D((2, 2), strides=2),\n",
        "    tf.keras.layers.Conv2D(512, (5, 5), strides=(1, 1), padding='same', activation='relu'),\n",
        "    tf.keras.layers.MaxPooling2D((2, 2), strides=2),\n",
        "    tf.keras.layers.Flatten(),\n",
        "    tf.keras.layers.Dropout(0.5),\n",
        "    tf.keras.layers.Dense(64, activation='relu'),\n",
        "    tf.keras.layers.Dense(2, activation='softmax')\n",
        "])\n",
        "\n",
        "optimizer = Adam(learning_rate=3e-4)\n",
        "model.compile(optimizer=optimizer, loss='sparse_categorical_crossentropy', metrics=['accuracy'])\n",
        "early_stopping = EarlyStopping(monitor='val_loss', patience=5, restore_best_weights=True)\n",
        "history = model.fit(X_train, y_train, batch_size=32, epochs=50, verbose=2, validation_data=(X_test, y_test))\n",
        "score = model.evaluate(X_test, y_test, verbose=0)\n",
        "print(\"Test Score:\", score[0])\n",
        "print(\"Test Accuracy:\", score[1])\n",
        "\n",
        "y_pred = np.argmax(model.predict(X_test), axis=1)\n"
      ],
      "metadata": {
        "id": "cL-eeh3oX6kX",
        "colab": {
          "base_uri": "https://localhost:8080/"
        },
        "outputId": "97406d08-1252-4b36-8598-6524c604e08c"
      },
      "execution_count": null,
      "outputs": [
        {
          "output_type": "stream",
          "name": "stdout",
          "text": [
            "Epoch 1/50\n",
            "7/7 - 26s - loss: 0.7520 - accuracy: 0.4767 - val_loss: 0.6909 - val_accuracy: 0.6939 - 26s/epoch - 4s/step\n",
            "Epoch 2/50\n",
            "7/7 - 1s - loss: 0.6870 - accuracy: 0.6995 - val_loss: 0.6674 - val_accuracy: 0.6327 - 1s/epoch - 184ms/step\n",
            "Epoch 3/50\n",
            "7/7 - 1s - loss: 0.6110 - accuracy: 0.7358 - val_loss: 0.4296 - val_accuracy: 0.8776 - 1s/epoch - 176ms/step\n",
            "Epoch 4/50\n",
            "7/7 - 1s - loss: 0.4744 - accuracy: 0.7461 - val_loss: 0.2368 - val_accuracy: 0.9796 - 1s/epoch - 182ms/step\n",
            "Epoch 5/50\n",
            "7/7 - 1s - loss: 0.1484 - accuracy: 1.0000 - val_loss: 0.0177 - val_accuracy: 1.0000 - 1s/epoch - 188ms/step\n",
            "Epoch 6/50\n",
            "7/7 - 1s - loss: 0.0044 - accuracy: 1.0000 - val_loss: 9.1604e-05 - val_accuracy: 1.0000 - 1s/epoch - 179ms/step\n",
            "Epoch 7/50\n",
            "7/7 - 1s - loss: 3.9439e-04 - accuracy: 1.0000 - val_loss: 5.0941e-06 - val_accuracy: 1.0000 - 1s/epoch - 176ms/step\n",
            "Epoch 8/50\n",
            "7/7 - 1s - loss: 8.7340e-06 - accuracy: 1.0000 - val_loss: 2.7978e-07 - val_accuracy: 1.0000 - 1s/epoch - 186ms/step\n",
            "Epoch 9/50\n",
            "7/7 - 1s - loss: 7.2203e-06 - accuracy: 1.0000 - val_loss: 3.8925e-08 - val_accuracy: 1.0000 - 1s/epoch - 178ms/step\n",
            "Epoch 10/50\n",
            "7/7 - 1s - loss: 1.8287e-06 - accuracy: 1.0000 - val_loss: 1.4597e-08 - val_accuracy: 1.0000 - 1s/epoch - 185ms/step\n",
            "Epoch 11/50\n",
            "7/7 - 1s - loss: 9.2580e-07 - accuracy: 1.0000 - val_loss: 4.8657e-09 - val_accuracy: 1.0000 - 1s/epoch - 178ms/step\n",
            "Epoch 12/50\n",
            "7/7 - 1s - loss: 3.6318e-07 - accuracy: 1.0000 - val_loss: 4.8657e-09 - val_accuracy: 1.0000 - 1s/epoch - 186ms/step\n",
            "Epoch 13/50\n",
            "7/7 - 1s - loss: 2.3224e-07 - accuracy: 1.0000 - val_loss: 4.8657e-09 - val_accuracy: 1.0000 - 1s/epoch - 185ms/step\n",
            "Epoch 14/50\n",
            "7/7 - 1s - loss: 7.9118e-07 - accuracy: 1.0000 - val_loss: 4.8657e-09 - val_accuracy: 1.0000 - 1s/epoch - 182ms/step\n",
            "Epoch 15/50\n",
            "7/7 - 1s - loss: 4.7374e-07 - accuracy: 1.0000 - val_loss: 4.8657e-09 - val_accuracy: 1.0000 - 1s/epoch - 182ms/step\n",
            "Epoch 16/50\n",
            "7/7 - 1s - loss: 2.8831e-05 - accuracy: 1.0000 - val_loss: 2.4328e-09 - val_accuracy: 1.0000 - 1s/epoch - 182ms/step\n",
            "Epoch 17/50\n",
            "7/7 - 1s - loss: 2.2236e-08 - accuracy: 1.0000 - val_loss: 2.4328e-09 - val_accuracy: 1.0000 - 1s/epoch - 181ms/step\n",
            "Epoch 18/50\n",
            "7/7 - 1s - loss: 1.5442e-08 - accuracy: 1.0000 - val_loss: 2.4328e-09 - val_accuracy: 1.0000 - 1s/epoch - 187ms/step\n",
            "Epoch 19/50\n",
            "7/7 - 1s - loss: 1.8530e-09 - accuracy: 1.0000 - val_loss: 4.8657e-09 - val_accuracy: 1.0000 - 1s/epoch - 187ms/step\n",
            "Epoch 20/50\n",
            "7/7 - 1s - loss: 1.2971e-08 - accuracy: 1.0000 - val_loss: 4.8657e-09 - val_accuracy: 1.0000 - 1s/epoch - 188ms/step\n",
            "Epoch 21/50\n",
            "7/7 - 1s - loss: 2.5942e-07 - accuracy: 1.0000 - val_loss: 4.8657e-09 - val_accuracy: 1.0000 - 1s/epoch - 188ms/step\n",
            "Epoch 22/50\n",
            "7/7 - 1s - loss: 2.2854e-08 - accuracy: 1.0000 - val_loss: 4.8657e-09 - val_accuracy: 1.0000 - 1s/epoch - 181ms/step\n",
            "Epoch 23/50\n",
            "7/7 - 1s - loss: 1.7295e-08 - accuracy: 1.0000 - val_loss: 4.8657e-09 - val_accuracy: 1.0000 - 1s/epoch - 189ms/step\n",
            "Epoch 24/50\n",
            "7/7 - 1s - loss: 6.7815e-07 - accuracy: 1.0000 - val_loss: 4.8657e-09 - val_accuracy: 1.0000 - 1s/epoch - 190ms/step\n",
            "Epoch 25/50\n",
            "7/7 - 1s - loss: 2.2236e-08 - accuracy: 1.0000 - val_loss: 4.8657e-09 - val_accuracy: 1.0000 - 1s/epoch - 192ms/step\n",
            "Epoch 26/50\n",
            "7/7 - 1s - loss: 2.1927e-07 - accuracy: 1.0000 - val_loss: 4.8657e-09 - val_accuracy: 1.0000 - 1s/epoch - 187ms/step\n",
            "Epoch 27/50\n",
            "7/7 - 1s - loss: 6.1766e-10 - accuracy: 1.0000 - val_loss: 4.8657e-09 - val_accuracy: 1.0000 - 1s/epoch - 183ms/step\n",
            "Epoch 28/50\n",
            "7/7 - 1s - loss: 1.8530e-09 - accuracy: 1.0000 - val_loss: 4.8657e-09 - val_accuracy: 1.0000 - 1s/epoch - 183ms/step\n",
            "Epoch 29/50\n",
            "7/7 - 1s - loss: 7.1649e-08 - accuracy: 1.0000 - val_loss: 4.8657e-09 - val_accuracy: 1.0000 - 1s/epoch - 190ms/step\n",
            "Epoch 30/50\n",
            "7/7 - 1s - loss: 2.0725e-06 - accuracy: 1.0000 - val_loss: 4.8657e-09 - val_accuracy: 1.0000 - 1s/epoch - 191ms/step\n",
            "Epoch 31/50\n",
            "7/7 - 1s - loss: 5.5590e-09 - accuracy: 1.0000 - val_loss: 4.8657e-09 - val_accuracy: 1.0000 - 1s/epoch - 190ms/step\n",
            "Epoch 32/50\n",
            "7/7 - 1s - loss: 8.0296e-09 - accuracy: 1.0000 - val_loss: 4.8657e-09 - val_accuracy: 1.0000 - 1s/epoch - 191ms/step\n",
            "Epoch 33/50\n",
            "7/7 - 1s - loss: 9.8826e-09 - accuracy: 1.0000 - val_loss: 7.2985e-09 - val_accuracy: 1.0000 - 1s/epoch - 191ms/step\n",
            "Epoch 34/50\n",
            "7/7 - 1s - loss: 2.4707e-09 - accuracy: 1.0000 - val_loss: 7.2985e-09 - val_accuracy: 1.0000 - 1s/epoch - 191ms/step\n",
            "Epoch 35/50\n",
            "7/7 - 1s - loss: 1.2971e-08 - accuracy: 1.0000 - val_loss: 7.2985e-09 - val_accuracy: 1.0000 - 1s/epoch - 193ms/step\n",
            "Epoch 36/50\n",
            "7/7 - 1s - loss: 9.8826e-09 - accuracy: 1.0000 - val_loss: 7.2985e-09 - val_accuracy: 1.0000 - 1s/epoch - 189ms/step\n",
            "Epoch 37/50\n",
            "7/7 - 1s - loss: 1.0500e-08 - accuracy: 1.0000 - val_loss: 7.2985e-09 - val_accuracy: 1.0000 - 1s/epoch - 193ms/step\n",
            "Epoch 38/50\n",
            "7/7 - 1s - loss: 1.1118e-08 - accuracy: 1.0000 - val_loss: 7.2985e-09 - val_accuracy: 1.0000 - 1s/epoch - 193ms/step\n",
            "Epoch 39/50\n",
            "7/7 - 1s - loss: 1.8530e-09 - accuracy: 1.0000 - val_loss: 7.2985e-09 - val_accuracy: 1.0000 - 1s/epoch - 192ms/step\n",
            "Epoch 40/50\n",
            "7/7 - 1s - loss: 3.7677e-08 - accuracy: 1.0000 - val_loss: 7.2985e-09 - val_accuracy: 1.0000 - 1s/epoch - 192ms/step\n",
            "Epoch 41/50\n",
            "7/7 - 1s - loss: 3.7060e-09 - accuracy: 1.0000 - val_loss: 7.2985e-09 - val_accuracy: 1.0000 - 1s/epoch - 185ms/step\n",
            "Epoch 42/50\n",
            "7/7 - 1s - loss: 2.1618e-08 - accuracy: 1.0000 - val_loss: 7.2985e-09 - val_accuracy: 1.0000 - 1s/epoch - 183ms/step\n",
            "Epoch 43/50\n",
            "7/7 - 1s - loss: 5.3737e-08 - accuracy: 1.0000 - val_loss: 7.2985e-09 - val_accuracy: 1.0000 - 1s/epoch - 183ms/step\n",
            "Epoch 44/50\n",
            "7/7 - 1s - loss: 1.1736e-08 - accuracy: 1.0000 - val_loss: 7.2985e-09 - val_accuracy: 1.0000 - 1s/epoch - 193ms/step\n",
            "Epoch 45/50\n",
            "7/7 - 1s - loss: 5.5590e-09 - accuracy: 1.0000 - val_loss: 7.2985e-09 - val_accuracy: 1.0000 - 1s/epoch - 196ms/step\n",
            "Epoch 46/50\n",
            "7/7 - 1s - loss: 6.1766e-10 - accuracy: 1.0000 - val_loss: 7.2985e-09 - val_accuracy: 1.0000 - 1s/epoch - 189ms/step\n",
            "Epoch 47/50\n",
            "7/7 - 1s - loss: 2.4707e-09 - accuracy: 1.0000 - val_loss: 7.2985e-09 - val_accuracy: 1.0000 - 1s/epoch - 183ms/step\n",
            "Epoch 48/50\n",
            "7/7 - 1s - loss: 1.9148e-08 - accuracy: 1.0000 - val_loss: 7.2985e-09 - val_accuracy: 1.0000 - 1s/epoch - 182ms/step\n",
            "Epoch 49/50\n",
            "7/7 - 1s - loss: 5.5590e-09 - accuracy: 1.0000 - val_loss: 7.2985e-09 - val_accuracy: 1.0000 - 1s/epoch - 190ms/step\n",
            "Epoch 50/50\n",
            "7/7 - 1s - loss: 3.0883e-09 - accuracy: 1.0000 - val_loss: 7.2985e-09 - val_accuracy: 1.0000 - 1s/epoch - 189ms/step\n",
            "Test Score: 7.298526671917216e-09\n",
            "Test Accuracy: 1.0\n",
            "2/2 [==============================] - 0s 40ms/step\n"
          ]
        }
      ]
    },
    {
      "cell_type": "code",
      "source": [
        "plt.figure(figsize=(20,10))\n",
        "# Plotting accuracy graph\n",
        "plt.plot(history.history['accuracy'], label='Training Accuracy')\n",
        "plt.plot(history.history['val_accuracy'], label='Validation Accuracy')\n",
        "plt.xlabel('Epochs')\n",
        "plt.ylabel('Accuracy')\n",
        "plt.legend()\n",
        "plt.show()\n"
      ],
      "metadata": {
        "id": "DDKEqze6X6mu",
        "colab": {
          "base_uri": "https://localhost:8080/",
          "height": 850
        },
        "outputId": "0721bec7-02e0-4b63-e53f-749e98bd5b87"
      },
      "execution_count": null,
      "outputs": [
        {
          "output_type": "display_data",
          "data": {
            "text/plain": [
              "<Figure size 2000x1000 with 1 Axes>"
            ],
            "image/png": "[encoded data removed]"
          },
          "metadata": {}
        }
      ]
    },
    {
      "cell_type": "code",
      "source": [
        "from sklearn.metrics import confusion_matrix\n",
        "print(\"Confusion Matrix:\")\n",
        "print(confusion_matrix(y_test, y_pred))"
      ],
      "metadata": {
        "id": "Btnkr5pBX6pA",
        "colab": {
          "base_uri": "https://localhost:8080/"
        },
        "outputId": "3ef13f03-3f93-461c-caea-9db2483d703a"
      },
      "execution_count": null,
      "outputs": [
        {
          "output_type": "stream",
          "name": "stdout",
          "text": [
            "Confusion Matrix:\n",
            "[[23  0]\n",
            " [ 0 26]]\n"
          ]
        }
      ]
    },
    {
      "cell_type": "code",
      "source": [
        "from sklearn.metrics import classification_report\n",
        "print(\"Classification report:\")\n",
        "print(classification_report(y_test, y_pred))"
      ],
      "metadata": {
        "id": "upsra0o1X6rX",
        "colab": {
          "base_uri": "https://localhost:8080/"
        },
        "outputId": "ab26bcbb-9365-4a73-8365-31ae143eb806"
      },
      "execution_count": null,
      "outputs": [
        {
          "output_type": "stream",
          "name": "stdout",
          "text": [
            "Classification report:\n",
            "              precision    recall  f1-score   support\n",
            "\n",
            "           0       1.00      1.00      1.00        23\n",
            "           1       1.00      1.00      1.00        26\n",
            "\n",
            "    accuracy                           1.00        49\n",
            "   macro avg       1.00      1.00      1.00        49\n",
            "weighted avg       1.00      1.00      1.00        49\n",
            "\n"
          ]
        }
      ]
    },
    {
      "cell_type": "code",
      "source": [],
      "metadata": {
        "id": "AqVszl6wX6tt"
      },
      "execution_count": null,
      "outputs": []
    },
    {
      "cell_type": "code",
      "source": [],
      "metadata": {
        "id": "-UbNxKsxX6wR"
      },
      "execution_count": null,
      "outputs": []
    },
    {
      "cell_type": "code",
      "source": [],
      "metadata": {
        "id": "wmA0AeqqX6ym"
      },
      "execution_count": null,
      "outputs": []
    },
    {
      "cell_type": "code",
      "source": [],
      "metadata": {
        "id": "hu_l87uoX61S"
      },
      "execution_count": null,
      "outputs": []
    },
    {
      "cell_type": "code",
      "source": [],
      "metadata": {
        "id": "AxOlU0ErX63h"
      },
      "execution_count": null,
      "outputs": []
    },
    {
      "cell_type": "code",
      "source": [],
      "metadata": {
        "id": "7mUWl4UBX67A"
      },
      "execution_count": null,
      "outputs": []
    }
  ]
}
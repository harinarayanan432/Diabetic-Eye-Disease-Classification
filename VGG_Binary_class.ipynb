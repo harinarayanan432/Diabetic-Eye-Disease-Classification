{
  "nbformat": 4,
  "nbformat_minor": 0,
  "metadata": {
    "colab": {
      "provenance": [],
      "gpuType": "T4"
    },
    "kernelspec": {
      "name": "python3",
      "display_name": "Python 3"
    },
    "language_info": {
      "name": "python"
    },
    "accelerator": "GPU"
  },
  "cells": [
    {
      "cell_type": "code",
      "source": [
        "# following for gl"
      ],
      "metadata": {
        "id": "GRfi-TH-uvhd"
      },
      "execution_count": null,
      "outputs": []
    },
    {
      "cell_type": "code",
      "source": [
        "\n",
        "drive.mount('/content/drive')\n",
        "\n",
        "# Model parameters\n",
        "image_size = 224\n",
        "input_shape = (image_size, image_size, 3)\n",
        "epochs = 50\n",
        "batch_size = 32\n",
        "\n",
        "# Define the dataset path and categories\n",
        "dataset_path = '/content/drive/My Drive/od_alone'\n",
        "categories = ['norm','gl']\n",
        "\n",
        "# Initialize an empty list to store labels\n",
        "labels = []\n",
        "\n",
        "# Iterate through the directories in the dataset path\n",
        "for category in categories:\n",
        "    category_path = os.path.join(dataset_path, category)\n",
        "    # Check if the directory exists and is indeed a directory\n",
        "    if os.path.isdir(category_path):\n",
        "        # List all files in the category directory\n",
        "        file_names = os.listdir(category_path)\n",
        "        # Iterate through each file in the directory\n",
        "        for file_name in file_names:\n",
        "            # Construct the full file path\n",
        "            file_path = os.path.join(category_path, file_name)\n",
        "            # Append the filename and category to the labels list\n",
        "            labels.append((file_path, category))\n",
        "\n",
        "# Create a DataFrame from the labels list\n",
        "df = pd.DataFrame(data=labels, columns=['filename', 'category'])\n",
        "\n",
        "# Encode the 'category' column\n",
        "encoder = LabelEncoder()\n",
        "df['category'] = encoder.fit_transform(df['category'])\n",
        "print(df.head())\n",
        "df = df.sample(frac=1).reset_index(drop=True)\n",
        "\n",
        "# Split the DataFrame into train and validation sets\n",
        "train_df, validate_df = train_test_split(df, test_size=0.2)\n",
        "\n",
        "# Load images and labels from DataFrame\n",
        "X_train = np.array([img_to_array(load_img(img_path, target_size=(image_size, image_size))) for img_path in train_df['filename']])\n",
        "y_train = np.array(train_df['category'])\n",
        "X_validate = np.array([img_to_array(load_img(img_path, target_size=(image_size, image_size))) for img_path in validate_df['filename']])\n",
        "y_validate = np.array(validate_df['category'])\n",
        "\n",
        "# Normalize pixel values to the range [0, 1]\n",
        "X_train = X_train / 255.0\n",
        "X_validate = X_validate / 255.0\n",
        "\n"
      ],
      "metadata": {
        "colab": {
          "base_uri": "https://localhost:8080/"
        },
        "id": "x5_-5zz0uk9m",
        "outputId": "32524a74-dc07-44dd-8266-3efb2da334d1"
      },
      "execution_count": null,
      "outputs": [
        {
          "output_type": "stream",
          "name": "stdout",
          "text": [
            "Drive already mounted at /content/drive; to attempt to forcibly remount, call drive.mount(\"/content/drive\", force_remount=True).\n",
            "                                            filename  category\n",
            "0  /content/drive/My Drive/od_alone/norm/processe...         1\n",
            "1  /content/drive/My Drive/od_alone/norm/processe...         1\n",
            "2  /content/drive/My Drive/od_alone/norm/processe...         1\n",
            "3  /content/drive/My Drive/od_alone/norm/processe...         1\n",
            "4  /content/drive/My Drive/od_alone/norm/processe...         1\n"
          ]
        }
      ]
    },
    {
      "cell_type": "code",
      "source": [
        "pre_trained_model = VGG16(input_shape=input_shape, include_top=False, weights=\"imagenet\")\n",
        "for layer in pre_trained_model.layers[:15]:\n",
        "    layer.trainable = False\n",
        "for layer in pre_trained_model.layers[15:]:\n",
        "    layer.trainable = True\n",
        "\n",
        "last_layer = pre_trained_model.get_layer('block5_pool')\n",
        "last_output = last_layer.output\n",
        "x = GlobalMaxPooling2D()(last_output)\n",
        "\n",
        "x = BatchNormalization(axis=1)(x)\n",
        "x = Dense(512, activation='relu')(x)\n",
        "x = Dropout(0.5)(x)\n",
        "x = Dense(len(categories), activation='softmax')(x)\n",
        "model = Model(pre_trained_model.input, x)\n",
        "model.compile(loss='sparse_categorical_crossentropy',\n",
        "              optimizer=optimizers.Adam(lr=3e-4),\n",
        "              metrics=['accuracy'])\n",
        "\n",
        "early_stopping = EarlyStopping(monitor='val_loss', patience=5, restore_best_weights=True)\n",
        "history = model.fit(X_train, y_train, validation_data=(X_validate, y_validate), epochs=epochs, batch_size=batch_size, callbacks=[early_stopping])\n",
        "\n"
      ],
      "metadata": {
        "colab": {
          "base_uri": "https://localhost:8080/"
        },
        "id": "GXw9MNnou2Iv",
        "outputId": "de4e3042-68a2-43e2-947b-2366cfd3bed7"
      },
      "execution_count": null,
      "outputs": [
        {
          "output_type": "stream",
          "name": "stderr",
          "text": [
            "WARNING:absl:`lr` is deprecated in Keras optimizer, please use `learning_rate` or use the legacy optimizer, e.g.,tf.keras.optimizers.legacy.Adam.\n"
          ]
        },
        {
          "output_type": "stream",
          "name": "stdout",
          "text": [
            "Epoch 1/50\n",
            "7/7 [==============================] - 10s 1s/step - loss: 0.2253 - accuracy: 0.8860 - val_loss: 16.3284 - val_accuracy: 0.4490\n",
            "Epoch 2/50\n",
            "7/7 [==============================] - 1s 184ms/step - loss: 0.0093 - accuracy: 0.9948 - val_loss: 30.0982 - val_accuracy: 0.4490\n",
            "Epoch 3/50\n",
            "7/7 [==============================] - 1s 183ms/step - loss: 0.0054 - accuracy: 1.0000 - val_loss: 18.6435 - val_accuracy: 0.4490\n",
            "Epoch 4/50\n",
            "7/7 [==============================] - 1s 172ms/step - loss: 0.0050 - accuracy: 1.0000 - val_loss: 2.7815 - val_accuracy: 0.6122\n",
            "Epoch 5/50\n",
            "7/7 [==============================] - 1s 186ms/step - loss: 0.0042 - accuracy: 0.9948 - val_loss: 1.7030e-08 - val_accuracy: 1.0000\n",
            "Epoch 6/50\n",
            "7/7 [==============================] - 1s 177ms/step - loss: 0.0037 - accuracy: 1.0000 - val_loss: 1.1324e-05 - val_accuracy: 1.0000\n",
            "Epoch 7/50\n",
            "7/7 [==============================] - 1s 181ms/step - loss: 0.0038 - accuracy: 1.0000 - val_loss: 0.0184 - val_accuracy: 0.9796\n",
            "Epoch 8/50\n",
            "7/7 [==============================] - 1s 164ms/step - loss: 0.0037 - accuracy: 1.0000 - val_loss: 1.3288 - val_accuracy: 0.7551\n",
            "Epoch 9/50\n",
            "7/7 [==============================] - 1s 164ms/step - loss: 0.0030 - accuracy: 1.0000 - val_loss: 4.1594 - val_accuracy: 0.5714\n",
            "Epoch 10/50\n",
            "7/7 [==============================] - 1s 187ms/step - loss: 0.0039 - accuracy: 1.0000 - val_loss: 8.5810 - val_accuracy: 0.5510\n"
          ]
        }
      ]
    },
    {
      "cell_type": "code",
      "source": [
        "y_pred = np.argmax(model.predict(X_validate), axis=-1)\n",
        "\n",
        "# Generate classification report\n",
        "print(\"Classification Report:\")\n",
        "print(classification_report(y_validate, y_pred, target_names=categories))\n",
        "\n",
        "# Generate confusion matrix\n",
        "cm = confusion_matrix(y_validate, y_pred)\n",
        "plt.figure(figsize=(8, 6))\n",
        "sns.heatmap(cm, annot=True, fmt='d', cmap='Blues', xticklabels=categories, yticklabels=categories)\n",
        "plt.xlabel('Predicted')\n",
        "plt.ylabel('Actual')\n",
        "plt.title('Confusion Matrix')\n",
        "plt.show()"
      ],
      "metadata": {
        "colab": {
          "base_uri": "https://localhost:8080/",
          "height": 755
        },
        "id": "UE8cQt-Xu3CE",
        "outputId": "3fff8766-a315-40a2-854c-01cbee4a0ba3"
      },
      "execution_count": null,
      "outputs": [
        {
          "output_type": "stream",
          "name": "stdout",
          "text": [
            "2/2 [==============================] - 0s 111ms/step\n",
            "Classification Report:\n",
            "              precision    recall  f1-score   support\n",
            "\n",
            "        norm       1.00      1.00      1.00        22\n",
            "          gl       1.00      1.00      1.00        27\n",
            "\n",
            "    accuracy                           1.00        49\n",
            "   macro avg       1.00      1.00      1.00        49\n",
            "weighted avg       1.00      1.00      1.00        49\n",
            "\n"
          ]
        },
        {
          "output_type": "display_data",
          "data": {
            "text/plain": [
              "<Figure size 800x600 with 2 Axes>"
            ],
            "image/png": "[encoded data removed]"
          },
          "metadata": {}
        }
      ]
    }
  ]
}